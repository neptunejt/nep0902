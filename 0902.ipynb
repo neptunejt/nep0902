{
 "cells": [
  {
   "cell_type": "markdown",
   "id": "72bc7ad3-71a0-4576-aa15-d90764686fdd",
   "metadata": {},
   "source": [
    "https://www.cognitiveclass.ai/"
   ]
  },
  {
   "cell_type": "markdown",
   "id": "e7056fa7-b9de-4aa2-aa2f-96c820e47d9b",
   "metadata": {},
   "source": [
    "# Header"
   ]
  },
  {
   "cell_type": "markdown",
   "id": "9515ad97-f863-4376-a12f-2de1b48b1027",
   "metadata": {},
   "source": [
    "## Header"
   ]
  },
  {
   "cell_type": "markdown",
   "id": "73f051c4-1f34-4f68-ac39-72d35e81d0b7",
   "metadata": {},
   "source": [
    "### Header"
   ]
  },
  {
   "cell_type": "markdown",
   "id": "7dec852e-2b5b-4eba-8999-4893d089c347",
   "metadata": {},
   "source": [
    "|Header| |Header|\n",
    "|------| |------|\n",
    "|Cell| |Cell|"
   ]
  },
  {
   "cell_type": "markdown",
   "id": "2fe159c3-e10a-43cd-81fa-1252b1177ad1",
   "metadata": {},
   "source": [
    "|Date| |Member ID| |Product|\n",
    "|------| |------| |------|\n",
    "|2021/09/01| |0001| |Apple|\n",
    "|------| |------| |------|\n",
    "|2021/09/02| |0002| |Orange|\n",
    "|------| |------| |------|\n",
    "|2021/09/03| |0003| |Potato|\n",
    "|------| |------| |------|\n",
    "|2021/09/04| |0004| |Blueburry|\n",
    "|------| |------| |------|"
   ]
  },
  {
   "cell_type": "markdown",
   "id": "c205d7bf-597f-4937-a00d-3f02d9558c5e",
   "metadata": {},
   "source": [
    "[Cognitive Class](https://www.cognitiveclass.ai)"
   ]
  },
  {
   "cell_type": "markdown",
   "id": "28594657-a265-4cd6-8077-4298eccf69dc",
   "metadata": {},
   "source": [
    "Hello style: \n",
    "![alt text][logo]\n",
    "\n",
    "[logo]: https://cdn.freelogovectors.net/wp-content/uploads/2016/02/fanta-logo.jpg \"Logo Title Text 2\""
   ]
  },
  {
   "cell_type": "markdown",
   "id": "d80a5009-c187-433b-8baa-d90595f84495",
   "metadata": {},
   "source": [
    "BB Style: \n",
    "![alt text](https://www.hdwallpaper.nu/wp-content/uploads/2015/02/Real-Lamborghini-Bull-Photo.jpg \"Logo Title Text 1\")"
   ]
  },
  {
   "cell_type": "markdown",
   "id": "4e75a8d6-31ea-4f66-a5dc-d031b4f27b16",
   "metadata": {},
   "source": [
    "Neptune\n",
    "========\n",
    "T\n",
    "--------"
   ]
  },
  {
   "cell_type": "code",
   "execution_count": 6,
   "id": "c10123cd-808b-4e7b-aadf-823d116cb8f9",
   "metadata": {},
   "outputs": [
    {
     "name": "stdout",
     "output_type": "stream",
     "text": [
      "Python syntax highlighting\n"
     ]
    }
   ],
   "source": [
    "s = \"Python syntax highlighting\"\n",
    "print(s)"
   ]
  },
  {
   "cell_type": "markdown",
   "id": "d822656c-5acc-4703-ad06-c854e8e2a915",
   "metadata": {},
   "source": [
    "Hello Baby\n",
    ">Today is a **good** day. \n",
    ">It is *sunny* day."
   ]
  },
  {
   "cell_type": "markdown",
   "id": "2b32e500-942b-4b46-83c7-54f5c6e31605",
   "metadata": {},
   "source": [
    "Example\n",
    ">This is a very long line that will still be quoted properly when it wraps. Oh boy let's keep writing to make sure this is long enough to actually wrap for everyone. Oh, you can *put* **Markdown** into a blockquote."
   ]
  },
  {
   "cell_type": "markdown",
   "id": "2d22a487-6e2f-435f-bdab-e64d18f481f3",
   "metadata": {},
   "source": [
    "<dl>\n",
    "  <dt>Definition list</dt>\n",
    "  <dd>Is something people use sometimes.</dd>\n",
    "\n",
    "  <dt>Markdown in HTML</dt>\n",
    "  <dd>Does *not* work **very** well. Use HTML <em>tags</em>.</dd>\n",
    "</dl>"
   ]
  },
  {
   "cell_type": "markdown",
   "id": "2f84b947-bd1c-4b4b-8d7f-8dd50c31963b",
   "metadata": {},
   "source": [
    "There are more ways for horizonta line\n",
    "\n",
    "---\n",
    "aaa\n",
    "\n",
    "***\n",
    "bbb\n",
    "\n",
    "___\n",
    "ccc"
   ]
  },
  {
   "cell_type": "markdown",
   "id": "dc87a766-cde9-4534-89ee-525cd33771c6",
   "metadata": {},
   "source": [
    "<a href=\"http://www.youtube.com/watch?feature=player_embedded&v=WZp91eiNGLY\n",
    "\" target=\"_blank\"><img src=\"http://img.youtube.com/vi/WZp91eiNGLY/0.jpg\" \n",
    "alt=\"IMAGE ALT TEXT HERE\" width=\"240\" height=\"180\" border=\"10\" /></a>"
   ]
  },
  {
   "cell_type": "markdown",
   "id": "1d92c0fd-262f-40aa-baea-2f682a239223",
   "metadata": {},
   "source": [
    "[![Rain](http://img.youtube.com/vi/YOUTUBE_VIDEO_ID_HERE/0.jpg)](http://www.youtube.com/watch?v=YOUTUBE_VIDEO_ID_HERE)\n"
   ]
  }
 ],
 "metadata": {
  "kernelspec": {
   "display_name": "Python",
   "language": "python",
   "name": "conda-env-python-py"
  },
  "language_info": {
   "codemirror_mode": {
    "name": "ipython",
    "version": 3
   },
   "file_extension": ".py",
   "mimetype": "text/x-python",
   "name": "python",
   "nbconvert_exporter": "python",
   "pygments_lexer": "ipython3",
   "version": "3.6.13"
  }
 },
 "nbformat": 4,
 "nbformat_minor": 5
}
